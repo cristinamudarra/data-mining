{
 "cells": [
  {
   "cell_type": "markdown",
   "metadata": {},
   "source": [
    "Data Mining [H02C6a] - Spring 2022\n",
    "\n",
    "# Gradient Boosting\n",
    "\n",
    "<img src='../img/gbt_pic.png'>\n",
    "Gradient Boosting is arguably one of the most commonly used machine learning algorithm. \n",
    "\n",
    "In this exercise, you will implement a very naive version of gradient boosted trees for solving regression tasks."
   ]
  },
  {
   "cell_type": "markdown",
   "metadata": {},
   "source": [
    "## Introduction\n",
    "\n",
    "**Question 1.1:** What is boosting? What other ensembling tecnhiques are you familiar with?\n",
    "\n",
    "**Question 1.2:** What is the idea behind gradient boosting? What does <i>'gradient'</i> in its title refer to?\n",
    "\n",
    "Hint: if you do not know anything about gradient boosting yet, try reading the following article:\n",
    "http://arogozhnikov.github.io/2016/06/24/gradient_boosting_explained.html"
   ]
  },
  {
   "cell_type": "markdown",
   "metadata": {},
   "source": [
    "## Gradient Boosting from scratch\n",
    "\n",
    "**Question 2.1** Complete the skeleton code below to get the very basic implementation of the gradient tree boosting algorithm."
   ]
  },
  {
   "cell_type": "code",
   "execution_count": 1,
   "metadata": {},
   "outputs": [],
   "source": [
    "import numpy as np\n",
    "from sklearn.tree import *"
   ]
  },
  {
   "cell_type": "code",
   "execution_count": 2,
   "metadata": {},
   "outputs": [],
   "source": [
    "class myGBR():\n",
    "    def __init__(self, max_num_iter = 50, max_depth = 5, learning_rate = 0.2):\n",
    "        self.max_num_iter = max_num_iter\n",
    "        self.max_depth = max_depth\n",
    "        self.learning_rate = learning_rate\n",
    "        return\n",
    "    \n",
    "    def fit(self, X, y):\n",
    "        self.init_est = np.mean(y)\n",
    "        y_pred = self.init_est\n",
    "        \n",
    "        self.trees = []\n",
    "        \n",
    "        for i in range(self.max_num_iter):\n",
    "\n",
    "            residuals = y-y_pred\n",
    "\n",
    "            dt = DecisionTreeRegressor(max_depth=self.max_depth)\n",
    "            dt.fit(X,residuals)\n",
    "            self.trees.append(dt)\n",
    "            \n",
    "            y_pred += self.learning_rate*dt.predict(X)\n",
    "            \n",
    "    def predict(self, X):\n",
    "        y_pred = self.init_est + self.learning_rate*np.sum(np.array([dt.predict(X) for dt in self.trees]), axis=0)\n",
    "        return y_pred"
   ]
  },
  {
   "cell_type": "markdown",
   "metadata": {},
   "source": [
    "## Experiments\n",
    "\n",
    "It is now time to experiment with your learner. We will use the standard California housing prices dataset which can be loaded directly from sklearn."
   ]
  },
  {
   "cell_type": "code",
   "execution_count": 3,
   "metadata": {},
   "outputs": [],
   "source": [
    "# Read the data\n",
    "from sklearn.datasets import *\n",
    "data = fetch_california_housing()\n",
    "X = data.data\n",
    "y = data.target"
   ]
  },
  {
   "cell_type": "code",
   "execution_count": 4,
   "metadata": {},
   "outputs": [],
   "source": [
    "# Split the data in train and test sets\n",
    "from sklearn.model_selection import train_test_split\n",
    "X_train, X_test, y_train, y_test = train_test_split(X,y)"
   ]
  },
  {
   "cell_type": "code",
   "execution_count": 5,
   "metadata": {},
   "outputs": [],
   "source": [
    "def mse (y,y_pred):\n",
    "    return np.mean((y-y_pred)**2)"
   ]
  },
  {
   "cell_type": "markdown",
   "metadata": {},
   "source": [
    "Let's see how well our model performs on the test set"
   ]
  },
  {
   "cell_type": "code",
   "execution_count": 6,
   "metadata": {},
   "outputs": [
    {
     "data": {
      "text/plain": [
       "0.2526698652987285"
      ]
     },
     "execution_count": 6,
     "metadata": {},
     "output_type": "execute_result"
    }
   ],
   "source": [
    "gbr = myGBR(max_num_iter = 50, max_depth = 5, learning_rate = 0.2)\n",
    "gbr.fit(X_train, y_train)\n",
    "\n",
    "y_pred = gbr.predict(X_test)\n",
    "mse(y_test, y_pred)"
   ]
  },
  {
   "cell_type": "markdown",
   "metadata": {},
   "source": [
    "**Question 3.1** How does that compare to other algorithms (e.g., single regression tree, Random Forest, ...)?"
   ]
  },
  {
   "cell_type": "code",
   "execution_count": 7,
   "metadata": {},
   "outputs": [
    {
     "data": {
      "text/plain": [
       "0.5185558868147868"
      ]
     },
     "execution_count": 7,
     "metadata": {},
     "output_type": "execute_result"
    }
   ],
   "source": [
    "from sklearn.tree import DecisionTreeRegressor\n",
    "dt = DecisionTreeRegressor()\n",
    "dt.fit(X_train,y_train)\n",
    "\n",
    "y_pred = dt.predict(X_test)\n",
    "mse(y_test, y_pred)"
   ]
  },
  {
   "cell_type": "code",
   "execution_count": 8,
   "metadata": {},
   "outputs": [
    {
     "data": {
      "text/plain": [
       "0.2653820961985777"
      ]
     },
     "execution_count": 8,
     "metadata": {},
     "output_type": "execute_result"
    }
   ],
   "source": [
    "from sklearn.ensemble import RandomForestRegressor\n",
    "rf = RandomForestRegressor()\n",
    "rf.fit(X_train,y_train)\n",
    "\n",
    "y_pred = rf.predict(X_test)\n",
    "mse(y_test, y_pred)"
   ]
  },
  {
   "cell_type": "markdown",
   "metadata": {},
   "source": [
    "**Question 3.2** What are the effects of different model parameters (learning rate, number of iterations,...) on the performance?"
   ]
  },
  {
   "cell_type": "markdown",
   "metadata": {},
   "source": [
    "Effect of *max_num_iter* :"
   ]
  },
  {
   "cell_type": "code",
   "execution_count": 9,
   "metadata": {},
   "outputs": [],
   "source": [
    "m_iter_mse = []\n",
    "iter_val = np.arange(10,210,10)\n",
    "for m_iter in iter_val:\n",
    "    gbr = myGBR(max_num_iter = m_iter, max_depth = 5, learning_rate = 0.2)\n",
    "    gbr.fit(X_train, y_train)\n",
    "    m_iter_mse.append(mse(y_test, gbr.predict(X_test)))"
   ]
  },
  {
   "cell_type": "code",
   "execution_count": 10,
   "metadata": {},
   "outputs": [
    {
     "data": {
      "image/png": "[encoded data removed]",
      "text/plain": [
       "<Figure size 576x288 with 1 Axes>"
      ]
     },
     "metadata": {
      "needs_background": "light"
     },
     "output_type": "display_data"
    }
   ],
   "source": [
    "import matplotlib.pyplot as plt\n",
    "plt.figure(figsize = (8,4))\n",
    "plt.scatter(np.arange(0,len(iter_val)), m_iter_mse, marker = 'X', s = 150, c = 'darkred', edgecolors = 'black')\n",
    "plt.xticks(np.arange(0,len(iter_val)),np.arange(0,len(iter_val)))\n",
    "plt.show()"
   ]
  },
  {
   "cell_type": "markdown",
   "metadata": {},
   "source": [
    "Effect of *max_depth* :"
   ]
  },
  {
   "cell_type": "code",
   "execution_count": 11,
   "metadata": {},
   "outputs": [],
   "source": [
    "m_depth_mse = []\n",
    "depts_val = np.arange(2,42,2)\n",
    "for m_depth in depts_val:\n",
    "    gbr = myGBR(max_num_iter = 50, max_depth = m_depth, learning_rate = 0.2)\n",
    "    gbr.fit(X_train, y_train)\n",
    "    m_depth_mse.append(mse(y_test, gbr.predict(X_test)))"
   ]
  },
  {
   "cell_type": "code",
   "execution_count": 12,
   "metadata": {},
   "outputs": [
    {
     "data": {
      "image/png": "[encoded data removed]",
      "text/plain": [
       "<Figure size 576x288 with 1 Axes>"
      ]
     },
     "metadata": {
      "needs_background": "light"
     },
     "output_type": "display_data"
    }
   ],
   "source": [
    "plt.figure(figsize = (8,4))\n",
    "plt.scatter(np.arange(0,len(m_depth_mse)), m_depth_mse, marker = 'X', s = 150, \n",
    "            c = 'darkblue', edgecolors = 'black')\n",
    "plt.xticks(np.arange(0,len(m_depth_mse)),np.arange(0,len(m_depth_mse)))\n",
    "plt.show()"
   ]
  },
  {
   "cell_type": "markdown",
   "metadata": {},
   "source": [
    "Effect of *learning_rate* :"
   ]
  },
  {
   "cell_type": "code",
   "execution_count": 13,
   "metadata": {},
   "outputs": [],
   "source": [
    "l_rate_mse = []\n",
    "rate_val = np.arange(0.01,1,0.05)\n",
    "for l_rate in rate_val:\n",
    "    gbr = myGBR(max_num_iter = 50, max_depth = 5, learning_rate = l_rate)\n",
    "    gbr.fit(X_train, y_train)\n",
    "    l_rate_mse.append(mse(y_test, gbr.predict(X_test)))"
   ]
  },
  {
   "cell_type": "code",
   "execution_count": 14,
   "metadata": {},
   "outputs": [
    {
     "data": {
      "image/png": "[encoded data removed]",
      "text/plain": [
       "<Figure size 576x288 with 1 Axes>"
      ]
     },
     "metadata": {
      "needs_background": "light"
     },
     "output_type": "display_data"
    }
   ],
   "source": [
    "plt.figure(figsize = (8,4))\n",
    "plt.scatter(np.arange(0,len(l_rate_mse)), l_rate_mse, marker = 'X', s = 150, \n",
    "            c = 'darkgreen', edgecolors = 'black')\n",
    "plt.xticks(np.arange(0,len(l_rate_mse)),np.arange(0,len(l_rate_mse)))\n",
    "plt.show()"
   ]
  }
 ],
 "metadata": {
  "kernelspec": {
   "display_name": "Python 3 (ipykernel)",
   "language": "python",
   "name": "python3"
  },
  "language_info": {
   "codemirror_mode": {
    "name": "ipython",
    "version": 3
   },
   "file_extension": ".py",
   "mimetype": "text/x-python",
   "name": "python",
   "nbconvert_exporter": "python",
   "pygments_lexer": "ipython3",
   "version": "3.9.7"
  }
 },
 "nbformat": 4,
 "nbformat_minor": 2
}
